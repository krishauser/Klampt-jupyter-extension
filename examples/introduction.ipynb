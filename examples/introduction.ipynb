{
 "cells": [
  {
   "cell_type": "markdown",
   "metadata": {},
   "source": [
    "# Introduction"
   ]
  },
  {
   "cell_type": "code",
   "execution_count": null,
   "metadata": {},
   "outputs": [],
   "source": [
    "import klampt\n",
    "from IPython.display import display\n",
    "\n",
    "#need Klampt-examples (git clone https://github.com/krishauser/Klampt-examples)\n",
    "w = klampt.WorldModel()\n",
    "res = w.loadFile(\"../../Klampt-examples/data/athlete_plane.xml\")\n",
    "if not res: raise IOError(\"Couldn't load Klampt-examples\")"
   ]
  },
  {
   "cell_type": "code",
   "execution_count": null,
   "metadata": {},
   "outputs": [],
   "source": [
    "import klampt_jupyter\n",
    "widget = klampt_jupyter.KlamptWidget(w)\n",
    "display(widget)"
   ]
  }
 ],
 "metadata": {
  "kernelspec": {
   "display_name": "Python 3",
   "language": "python",
   "name": "python3"
  },
  "language_info": {
   "codemirror_mode": {
    "name": "ipython",
    "version": 3
   },
   "file_extension": ".py",
   "mimetype": "text/x-python",
   "name": "python",
   "nbconvert_exporter": "python",
   "pygments_lexer": "ipython3",
   "version": "3.7.10"
  }
 },
 "nbformat": 4,
 "nbformat_minor": 4
}
